{
 "cells": [
  {
   "cell_type": "code",
   "execution_count": 1,
   "metadata": {},
   "outputs": [
    {
     "name": "stderr",
     "output_type": "stream",
     "text": [
      "Using TensorFlow backend.\n"
     ]
    }
   ],
   "source": [
    "import keras\n",
    "from keras.layers import Conv2D\n",
    "from keras.layers import MaxPooling2D\n",
    "from keras.layers import Flatten\n",
    "from keras.models import Sequential\n",
    "from keras.layers import Dense"
   ]
  },
  {
   "cell_type": "code",
   "execution_count": 2,
   "metadata": {},
   "outputs": [],
   "source": [
    "model=Sequential()"
   ]
  },
  {
   "cell_type": "code",
   "execution_count": 3,
   "metadata": {},
   "outputs": [
    {
     "name": "stderr",
     "output_type": "stream",
     "text": [
      "C:\\Users\\canar\\Anaconda3\\lib\\site-packages\\ipykernel_launcher.py:1: UserWarning: Update your `Conv2D` call to the Keras 2 API: `Conv2D(32, (3, 3), input_shape=(64, 64, 3..., activation=\"relu\")`\n",
      "  \"\"\"Entry point for launching an IPython kernel.\n"
     ]
    },
    {
     "name": "stdout",
     "output_type": "stream",
     "text": [
      "WARNING:tensorflow:From C:\\Users\\canar\\Anaconda3\\lib\\site-packages\\tensorflow\\python\\framework\\op_def_library.py:263: colocate_with (from tensorflow.python.framework.ops) is deprecated and will be removed in a future version.\n",
      "Instructions for updating:\n",
      "Colocations handled automatically by placer.\n"
     ]
    }
   ],
   "source": [
    "model.add(Conv2D(32,3,3,input_shape=(64,64,3),activation ='relu'))"
   ]
  },
  {
   "cell_type": "code",
   "execution_count": 5,
   "metadata": {},
   "outputs": [],
   "source": [
    "model.add(MaxPooling2D(pool_size=(2,2)))"
   ]
  },
  {
   "cell_type": "code",
   "execution_count": 7,
   "metadata": {},
   "outputs": [],
   "source": [
    "model.add(Flatten())"
   ]
  },
  {
   "cell_type": "code",
   "execution_count": 8,
   "metadata": {},
   "outputs": [],
   "source": [
    "model.add(Dense(100,activation='relu'))"
   ]
  },
  {
   "cell_type": "code",
   "execution_count": 9,
   "metadata": {},
   "outputs": [],
   "source": [
    "model.add(Dense(6,activation='softmax'))"
   ]
  },
  {
   "cell_type": "code",
   "execution_count": 10,
   "metadata": {},
   "outputs": [],
   "source": [
    "model.compile(optimizer='adam',loss='categorical_crossentropy',metrics=['accuracy'])"
   ]
  },
  {
   "cell_type": "code",
   "execution_count": 11,
   "metadata": {},
   "outputs": [],
   "source": [
    "from keras.preprocessing.image import ImageDataGenerator\n",
    "train_datagen=ImageDataGenerator(rescale=1./255,shear_range=0.2,zoom_range=0.2,horizontal_flip=True)"
   ]
  },
  {
   "cell_type": "code",
   "execution_count": 12,
   "metadata": {},
   "outputs": [],
   "source": [
    "test_datagen=ImageDataGenerator(rescale=1./255)"
   ]
  },
  {
   "cell_type": "code",
   "execution_count": 15,
   "metadata": {},
   "outputs": [
    {
     "name": "stdout",
     "output_type": "stream",
     "text": [
      "Found 493 images belonging to 6 classes.\n"
     ]
    }
   ],
   "source": [
    "x_train=train_datagen.flow_from_directory(r\"D:\\trainingset\",target_size=(64,64),batch_size=32,class_mode='categorical')"
   ]
  },
  {
   "cell_type": "code",
   "execution_count": 16,
   "metadata": {},
   "outputs": [
    {
     "name": "stdout",
     "output_type": "stream",
     "text": [
      "Found 116 images belonging to 6 classes.\n"
     ]
    }
   ],
   "source": [
    "x_test=train_datagen.flow_from_directory(r\"D:\\test set\",target_size=(64,64),batch_size=32,class_mode='categorical')"
   ]
  },
  {
   "cell_type": "code",
   "execution_count": 17,
   "metadata": {},
   "outputs": [
    {
     "data": {
      "text/plain": [
       "{'bacterial leaf blight': 0,\n",
       " 'blast': 1,\n",
       " 'false smut': 2,\n",
       " 'normal': 3,\n",
       " 'rice tungro': 4,\n",
       " 'sheath blight': 5}"
      ]
     },
     "execution_count": 17,
     "metadata": {},
     "output_type": "execute_result"
    }
   ],
   "source": [
    "x_train.class_indices"
   ]
  },
  {
   "cell_type": "code",
   "execution_count": 18,
   "metadata": {},
   "outputs": [
    {
     "data": {
      "text/plain": [
       "{'bacterial leaf blight': 0,\n",
       " 'blast': 1,\n",
       " 'false smut': 2,\n",
       " 'normal': 3,\n",
       " 'rice tungro': 4,\n",
       " 'sheath blight': 5}"
      ]
     },
     "execution_count": 18,
     "metadata": {},
     "output_type": "execute_result"
    }
   ],
   "source": [
    "x_test.class_indices"
   ]
  },
  {
   "cell_type": "code",
   "execution_count": 20,
   "metadata": {},
   "outputs": [
    {
     "name": "stderr",
     "output_type": "stream",
     "text": [
      "C:\\Users\\canar\\Anaconda3\\lib\\site-packages\\ipykernel_launcher.py:1: UserWarning: The semantics of the Keras 2 argument `steps_per_epoch` is not the same as the Keras 1 argument `samples_per_epoch`. `steps_per_epoch` is the number of batches to draw from the generator at each epoch. Basically steps_per_epoch = samples_per_epoch/batch_size. Similarly `nb_val_samples`->`validation_steps` and `val_samples`->`steps` arguments have changed. Update your method calls accordingly.\n",
      "  \"\"\"Entry point for launching an IPython kernel.\n",
      "C:\\Users\\canar\\Anaconda3\\lib\\site-packages\\ipykernel_launcher.py:1: UserWarning: Update your `fit_generator` call to the Keras 2 API: `fit_generator(<keras_pre..., epochs=25, validation_data=<keras_pre..., steps_per_epoch=15, validation_steps=116)`\n",
      "  \"\"\"Entry point for launching an IPython kernel.\n"
     ]
    },
    {
     "name": "stdout",
     "output_type": "stream",
     "text": [
      "WARNING:tensorflow:From C:\\Users\\canar\\Anaconda3\\lib\\site-packages\\tensorflow\\python\\ops\\math_ops.py:3066: to_int32 (from tensorflow.python.ops.math_ops) is deprecated and will be removed in a future version.\n",
      "Instructions for updating:\n",
      "Use tf.cast instead.\n",
      "Epoch 1/25\n",
      "15/15 [==============================] - 137s 9s/step - loss: 2.0594 - acc: 0.2229 - val_loss: 1.8149 - val_acc: 0.2102\n",
      "Epoch 2/25\n",
      "15/15 [==============================] - 122s 8s/step - loss: 1.6667 - acc: 0.3015 - val_loss: 1.7257 - val_acc: 0.3026\n",
      "Epoch 3/25\n",
      "15/15 [==============================] - 128s 9s/step - loss: 1.6527 - acc: 0.3318 - val_loss: 1.7053 - val_acc: 0.2577\n",
      "Epoch 4/25\n",
      "15/15 [==============================] - 176s 12s/step - loss: 1.5252 - acc: 0.3492 - val_loss: 1.7897 - val_acc: 0.2895\n",
      "Epoch 5/25\n",
      "15/15 [==============================] - 116s 8s/step - loss: 1.5264 - acc: 0.4208 - val_loss: 1.6393 - val_acc: 0.3303\n",
      "Epoch 6/25\n",
      "15/15 [==============================] - 118s 8s/step - loss: 1.4240 - acc: 0.4461 - val_loss: 1.6401 - val_acc: 0.2892\n",
      "Epoch 7/25\n",
      "15/15 [==============================] - 117s 8s/step - loss: 1.4297 - acc: 0.4299 - val_loss: 1.6450 - val_acc: 0.3285\n",
      "Epoch 8/25\n",
      "15/15 [==============================] - 118s 8s/step - loss: 1.3067 - acc: 0.5437 - val_loss: 1.6895 - val_acc: 0.3282\n",
      "Epoch 9/25\n",
      "15/15 [==============================] - 119s 8s/step - loss: 1.2776 - acc: 0.5245 - val_loss: 1.6574 - val_acc: 0.3511\n",
      "Epoch 10/25\n",
      "15/15 [==============================] - 116s 8s/step - loss: 1.2936 - acc: 0.5044 - val_loss: 1.7870 - val_acc: 0.3199\n",
      "Epoch 11/25\n",
      "15/15 [==============================] - 118s 8s/step - loss: 1.1904 - acc: 0.5547 - val_loss: 1.6215 - val_acc: 0.3371\n",
      "Epoch 12/25\n",
      "15/15 [==============================] - 119s 8s/step - loss: 1.1770 - acc: 0.5649 - val_loss: 1.6784 - val_acc: 0.3234\n",
      "Epoch 13/25\n",
      "15/15 [==============================] - 119s 8s/step - loss: 1.0831 - acc: 0.5839 - val_loss: 1.7328 - val_acc: 0.3407\n",
      "Epoch 14/25\n",
      "15/15 [==============================] - 119s 8s/step - loss: 1.0840 - acc: 0.6306 - val_loss: 1.7624 - val_acc: 0.3716\n",
      "Epoch 15/25\n",
      "15/15 [==============================] - 119s 8s/step - loss: 1.0731 - acc: 0.6502 - val_loss: 1.7444 - val_acc: 0.3659\n",
      "Epoch 16/25\n",
      "15/15 [==============================] - 119s 8s/step - loss: 0.9879 - acc: 0.6570 - val_loss: 1.6030 - val_acc: 0.3665\n",
      "Epoch 17/25\n",
      "15/15 [==============================] - 119s 8s/step - loss: 0.9129 - acc: 0.6979 - val_loss: 1.6892 - val_acc: 0.3790\n",
      "Epoch 18/25\n",
      "15/15 [==============================] - 122s 8s/step - loss: 0.8628 - acc: 0.7123 - val_loss: 1.7136 - val_acc: 0.3746\n",
      "Epoch 19/25\n",
      "15/15 [==============================] - 120s 8s/step - loss: 0.9018 - acc: 0.6703 - val_loss: 1.6867 - val_acc: 0.3942\n",
      "Epoch 20/25\n",
      "15/15 [==============================] - 119s 8s/step - loss: 0.8796 - acc: 0.6878 - val_loss: 1.8035 - val_acc: 0.3624\n",
      "Epoch 21/25\n",
      "15/15 [==============================] - 119s 8s/step - loss: 0.8162 - acc: 0.7416 - val_loss: 1.7526 - val_acc: 0.3597\n",
      "Epoch 22/25\n",
      "15/15 [==============================] - 122s 8s/step - loss: 0.7262 - acc: 0.7645 - val_loss: 1.8068 - val_acc: 0.3359\n",
      "Epoch 23/25\n",
      "15/15 [==============================] - 120s 8s/step - loss: 0.8367 - acc: 0.7262 - val_loss: 1.7315 - val_acc: 0.4084\n",
      "Epoch 24/25\n",
      "15/15 [==============================] - 122s 8s/step - loss: 0.7089 - acc: 0.7771 - val_loss: 1.7663 - val_acc: 0.3933\n",
      "Epoch 25/25\n",
      "15/15 [==============================] - 120s 8s/step - loss: 0.6964 - acc: 0.7721 - val_loss: 1.7362 - val_acc: 0.3927\n"
     ]
    },
    {
     "data": {
      "text/plain": [
       "<keras.callbacks.History at 0x7f16a276d8>"
      ]
     },
     "execution_count": 20,
     "metadata": {},
     "output_type": "execute_result"
    }
   ],
   "source": [
    "model.fit_generator(x_train,samples_per_epoch=493,epochs=25,validation_data=x_test,nb_val_samples=116)"
   ]
  },
  {
   "cell_type": "code",
   "execution_count": 21,
   "metadata": {},
   "outputs": [],
   "source": [
    "model.save(\"project1.h5\")"
   ]
  },
  {
   "cell_type": "code",
   "execution_count": null,
   "metadata": {},
   "outputs": [],
   "source": []
  }
 ],
 "metadata": {
  "kernelspec": {
   "display_name": "Python 3",
   "language": "python",
   "name": "python3"
  },
  "language_info": {
   "codemirror_mode": {
    "name": "ipython",
    "version": 3
   },
   "file_extension": ".py",
   "mimetype": "text/x-python",
   "name": "python",
   "nbconvert_exporter": "python",
   "pygments_lexer": "ipython3",
   "version": "3.7.1"
  }
 },
 "nbformat": 4,
 "nbformat_minor": 2
}
